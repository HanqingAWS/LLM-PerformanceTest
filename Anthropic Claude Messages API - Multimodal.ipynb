{
 "cells": [
  {
   "cell_type": "code",
   "execution_count": 54,
   "id": "3c820332-c4d0-4581-98e5-04366d24db49",
   "metadata": {
    "tags": []
   },
   "outputs": [
    {
     "name": "stdout",
     "output_type": "stream",
     "text": [
      "Requirement already satisfied: pip in /home/ec2-user/anaconda3/envs/python3/lib/python3.10/site-packages (24.0)\n",
      "Note: you may need to restart the kernel to use updated packages.\n",
      "\u001b[31mERROR: pip's dependency resolver does not currently take into account all the packages that are installed. This behaviour is the source of the following dependency conflicts.\n",
      "awscli 1.32.29 requires botocore==1.34.29, but you have botocore 1.34.58 which is incompatible.\n",
      "sparkmagic 0.21.0 requires pandas<2.0.0,>=0.17.1, but you have pandas 2.1.1 which is incompatible.\n",
      "sphinx 7.2.6 requires docutils<0.21,>=0.18.1, but you have docutils 0.16 which is incompatible.\u001b[0m\u001b[31m\n",
      "\u001b[0mNote: you may need to restart the kernel to use updated packages.\n",
      "\u001b[31mERROR: pip's dependency resolver does not currently take into account all the packages that are installed. This behaviour is the source of the following dependency conflicts.\n",
      "awscli 1.32.29 requires botocore==1.34.29, but you have botocore 1.34.58 which is incompatible.\n",
      "sparkmagic 0.21.0 requires pandas<2.0.0,>=0.17.1, but you have pandas 2.1.1 which is incompatible.\n",
      "sphinx 7.2.6 requires docutils<0.21,>=0.18.1, but you have docutils 0.16 which is incompatible.\u001b[0m\u001b[31m\n",
      "\u001b[0mNote: you may need to restart the kernel to use updated packages.\n"
     ]
    }
   ],
   "source": [
    "%pip install --upgrade pip\n",
    "%pip install boto3>=1.33.2 --force-reinstall --quiet\n",
    "%pip install botocore>=1.33.2 --force-reinstall --quiet"
   ]
  },
  {
   "cell_type": "code",
   "execution_count": 66,
   "id": "c6948e02-a2e3-4f4a-92e3-aab0b4cb1d79",
   "metadata": {
    "tags": []
   },
   "outputs": [
    {
     "data": {
      "text/html": [
       "<script>Jupyter.notebook.kernel.restart()</script>"
      ],
      "text/plain": [
       "<IPython.core.display.HTML object>"
      ]
     },
     "execution_count": 66,
     "metadata": {},
     "output_type": "execute_result"
    }
   ],
   "source": [
    "# restart kernel\n",
    "from IPython.core.display import HTML\n",
    "HTML(\"<script>Jupyter.notebook.kernel.restart()</script>\")"
   ]
  },
  {
   "cell_type": "code",
   "execution_count": 1,
   "id": "8e784158-f6fe-4ff2-b457-6e597a710572",
   "metadata": {
    "tags": []
   },
   "outputs": [],
   "source": [
    "import boto3\n",
    "import json\n",
    "import base64\n",
    "import time\n",
    "\n",
    "bedrock_client = boto3.client('bedrock-runtime',region_name='us-east-1')"
   ]
  },
  {
   "cell_type": "code",
   "execution_count": 2,
   "id": "7f8c22ec",
   "metadata": {
    "tags": []
   },
   "outputs": [],
   "source": [
    "def generate_message(bedrock_runtime, model_id, messages, max_tokens,top_p,temp,system='',if_print=0):\n",
    "\n",
    "    body=json.dumps(\n",
    "        {\n",
    "            \"anthropic_version\": \"bedrock-2023-05-31\",\n",
    "            \"max_tokens\": max_tokens,\n",
    "            \"messages\": messages,\n",
    "            \"temperature\": temp,\n",
    "            \"top_p\": top_p,\n",
    "            \"system\": system\n",
    "        }  \n",
    "    )  \n",
    "    start_time = time.time()\n",
    "    response = bedrock_runtime.invoke_model(body=body, modelId=model_id)\n",
    "    end_time = time.time()\n",
    "    elapsed_time = end_time - start_time\n",
    "    if if_print == 1:\n",
    "        print(\"----------------------------------------- OutPut -----------------------------------------\")\n",
    "        print(\"Elapsed time: \", elapsed_time, \"seconds\")\n",
    "    response_body = json.loads(response.get('body').read())\n",
    "\n",
    "    return response_body"
   ]
  },
  {
   "cell_type": "code",
   "execution_count": 23,
   "id": "1f3ba816-9320-439f-a28e-b65120162769",
   "metadata": {
    "tags": []
   },
   "outputs": [],
   "source": [
    "with open('test2.png', \"rb\") as image_file:\n",
    "    content_image = base64.b64encode(image_file.read()).decode('utf8')"
   ]
  },
  {
   "cell_type": "code",
   "execution_count": 25,
   "id": "09454ab2-3f61-450f-af13-c0bf9189c2d7",
   "metadata": {
    "tags": []
   },
   "outputs": [],
   "source": [
    "message_mm=[{ \"role\": \"user\",\"content\": [{\"type\": \"image\",\"source\": { \"type\": \"base64\",\"media_type\": \\\n",
    "                                                                     \"image/jpeg\",\"data\": content_image}},\\\n",
    "                                                                     {\"type\": \"text\",\"text\": \"请从图像中提取广告口号，仅输出广告口号，广告口号不需要翻译，并以<Response>开始，</Response>结束的格式输出\"}]}]"
   ]
  },
  {
   "cell_type": "code",
   "execution_count": 26,
   "id": "36397dda-729f-48f6-b015-c2a1828c7592",
   "metadata": {
    "tags": []
   },
   "outputs": [
    {
     "name": "stdout",
     "output_type": "stream",
     "text": [
      "----------------------------------------- OutPut -----------------------------------------\n",
      "Elapsed time:  2.000746726989746 seconds\n",
      "All right, babe\n"
     ]
    }
   ],
   "source": [
    "data = generate_message(bedrock_client, model_id = \"anthropic.claude-3-sonnet-20240229-v1:0\",messages=message_mm,max_tokens=4096,temp=0.5,top_p=0.9,if_print=1)\n",
    "\n",
    "text_value = data['content'][0]['text']\n",
    "response_value = text_value[text_value.find('<Response>') + len('<Response>'):text_value.find('</Response>')]\n",
    "\n",
    "print(response_value)"
   ]
  },
  {
   "cell_type": "code",
   "execution_count": 52,
   "id": "2e5f4835-25eb-454b-91e9-d2da5c8b34f1",
   "metadata": {
    "tags": []
   },
   "outputs": [
    {
     "data": {
      "text/plain": [
       "{'id': 'msg_01J4TcGGmFxQztykcNKHDHf3',\n",
       " 'type': 'message',\n",
       " 'role': 'assistant',\n",
       " 'content': [{'type': 'text',\n",
       "   'text': \"Quantum mechanics is a fundamental theory in physics that describes the behavior of matter and energy on the atomic and subatomic scale. It is a mathematical framework that provides a way to understand and predict the properties and interactions of particles at the quantum level.\\n\\nSome key principles and concepts of quantum mechanics include:\\n\\n1. Wave-particle duality: Particles can exhibit both wave-like and particle-like properties, depending on the experimental situation.\\n\\n2. Quantum state: The state of a quantum system is described by a wave function, which contains all the information about the system's properties.\\n\\n3. Quantum superposition: A quantum system can exist in a superposition of multiple states simultaneously, until it is measured or interacts with the environment.\\n\\n4. Uncertainty principle: There is a fundamental limit to the precision with which certain pairs of physical properties of a particle, such as position and momentum, can be known simultaneously.\\n\\n5. Quantization: Certain physical quantities, such as energy, can only take on discrete values, rather than varying continuously.\\n\\n6. Probabilistic nature: Quantum mechanics describes the behavior of particles in terms of probabilities, rather than deterministic predictions.\\n\\nQuantum mechanics has had a profound impact on our understanding of the physical world and has led to numerous technological applications, including lasers, transistors, and quantum computing. It has also challenged our classical intuitions about the nature of reality and has given rise to philosophical debates about the interpretation of quantum phenomena.\"}],\n",
       " 'model': 'claude-3-sonnet-28k-20240229',\n",
       " 'stop_reason': 'end_turn',\n",
       " 'stop_sequence': None,\n",
       " 'usage': {'input_tokens': 12, 'output_tokens': 312}}"
      ]
     },
     "execution_count": 52,
     "metadata": {},
     "output_type": "execute_result"
    }
   ],
   "source": [
    "messages=[{ \"role\":'user', \"content\":[{'type':'text','text': \"What is quantum mechanics?\"}]}]\n",
    "\n",
    "generate_message(bedrock_client, model_id = \"anthropic.claude-3-sonnet-20240229-v1:0\",messages=messages,max_tokens=512,temp=0.5,top_p=0.9)"
   ]
  },
  {
   "cell_type": "code",
   "execution_count": 22,
   "id": "dcae70f0-ef4b-4795-84a9-6fe97afa7857",
   "metadata": {
    "tags": []
   },
   "outputs": [
    {
     "data": {
      "text/plain": [
       "{'id': 'msg_bdrk_01F8hj5YSi8XgUAvkZ17gb7Y',\n",
       " 'type': 'message',\n",
       " 'role': 'assistant',\n",
       " 'model': 'claude-3-sonnet-20240229',\n",
       " 'content': [{'type': 'text', 'text': '🎵\\n\\n<Response>你好</Response>'}],\n",
       " 'stop_reason': 'end_turn',\n",
       " 'stop_sequence': None,\n",
       " 'usage': {'input_tokens': 435, 'output_tokens': 16}}"
      ]
     },
     "execution_count": 22,
     "metadata": {},
     "output_type": "execute_result"
    }
   ],
   "source": [
    "#Messages API with system prompt\n",
    "# messages = [{ \"role\":'user', \"content\":[{'type':'text','text': \"What is quantum mechanics?\"}]}]\n",
    "user_message1 =  {\"role\": \"user\", \"content\": \"查看上文后分两次回复，第一次仅能回复'🎵'第二次直接按照要求继续描写，符合字数要求。\"}\n",
    "assistant_message1 =  {\"role\": \"assistant\", \"content\": \"🎵\"}\n",
    "user_message2 =  {\"role\": \"user\", \"content\": \"请继续\"}\n",
    "assistant_message2 =  {\"role\": \"assistant\", \"content\": \"🎵\"}\n",
    "message_mm={ \"role\": \"user\",\"content\": [{\"type\": \"image\",\"source\": { \"type\": \"base64\",\"media_type\": \\\n",
    "                                                                     \"image/jpeg\",\"data\": content_image}},\\\n",
    "                                                                     {\"type\": \"text\",\"text\": \"请从图像中提取广告口号，仅输出广告口号，广告口号不需要翻译，并以<Response>开始，</Response>结束的格式输出\"}]}\n",
    "messages = [user_message1, assistant_message1,user_message2, assistant_message2, message_mm]\n",
    "\n",
    "system = \"You are a text reviewer, checking for grammar errors\"\n",
    "generate_message(bedrock_client, model_id = \"anthropic.claude-3-sonnet-20240229-v1:0\",messages=messages,max_tokens=2048,temp=0.01,top_p=0.2,system=system)"
   ]
  },
  {
   "cell_type": "code",
   "execution_count": null,
   "id": "f6049873-d0d0-4ccc-aae7-928ac0c64046",
   "metadata": {},
   "outputs": [],
   "source": []
  },
  {
   "cell_type": "code",
   "execution_count": null,
   "id": "f1e950d0-2f3b-4816-8692-b79ce934c6f7",
   "metadata": {},
   "outputs": [],
   "source": []
  }
 ],
 "metadata": {
  "kernelspec": {
   "display_name": "conda_python3",
   "language": "python",
   "name": "conda_python3"
  },
  "language_info": {
   "codemirror_mode": {
    "name": "ipython",
    "version": 3
   },
   "file_extension": ".py",
   "mimetype": "text/x-python",
   "name": "python",
   "nbconvert_exporter": "python",
   "pygments_lexer": "ipython3",
   "version": "3.10.14"
  }
 },
 "nbformat": 4,
 "nbformat_minor": 5
}
